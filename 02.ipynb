{
 "cells": [
  {
   "cell_type": "markdown",
   "metadata": {},
   "source": [
    "# 2．線形回帰モデルを通して｢解釈性｣を理解する"
   ]
  },
  {
   "cell_type": "markdown",
   "metadata": {},
   "source": [
    "* 線形回帰モデルが備える解釈性\n",
    "    1. 特徴量と予測値の平均的な関係\n",
    "    2. 特徴量と予測値のインスタンスごとの関係\n",
    "    3. 特徴量の重要度\n",
    "    4. インスタンスごとの予測の理由"
   ]
  },
  {
   "cell_type": "markdown",
   "metadata": {},
   "source": [
    "1. 特徴量と予測値の平均的な関係\n",
    "2. 特徴量と予測値のインスタンスごとの関係\n",
    "3. 特徴量の重要度\n",
    "4. インスタンスごとの予測の理由"
   ]
  },
  {
   "cell_type": "code",
   "execution_count": 76,
   "metadata": {},
   "outputs": [],
   "source": [
    "import sys\n",
    "import warnings\n",
    "from dataclasses import dataclass\n",
    "import joblib\n",
    "\n",
    "import japanize_matplotlib\n",
    "import matplotlib.pyplot as plt\n",
    "import numpy as np\n",
    "import pandas as pd\n",
    "import seaborn as sns\n",
    "from sklearn.datasets import load_boston\n",
    "from sklearn.model_selection import train_test_split\n",
    "from sklearn.linear_model import LinearRegression\n",
    "from sklearn.metrics import mean_squared_error, r2_score\n",
    "from sklearn.preprocessing import StandardScaler\n",
    "from sklearn.ensemble import RandomForestRegressor\n",
    "\n",
    "warnings.simplefilter('ignore')"
   ]
  },
  {
   "cell_type": "code",
   "execution_count": 2,
   "metadata": {},
   "outputs": [
    {
     "name": "stdout",
     "output_type": "stream",
     "text": [
      "(506, 13)\n",
      "(506,)\n"
     ]
    }
   ],
   "source": [
    "# load data\n",
    "boston = load_boston()\n",
    "X = pd.DataFrame(data=boston['data'], columns=boston['feature_names'])\n",
    "y = boston['target']\n",
    "\n",
    "print(X.shape)\n",
    "print(y.shape)"
   ]
  },
  {
   "cell_type": "code",
   "execution_count": 5,
   "metadata": {},
   "outputs": [
    {
     "data": {
      "text/html": [
       "<div>\n",
       "<style scoped>\n",
       "    .dataframe tbody tr th:only-of-type {\n",
       "        vertical-align: middle;\n",
       "    }\n",
       "\n",
       "    .dataframe tbody tr th {\n",
       "        vertical-align: top;\n",
       "    }\n",
       "\n",
       "    .dataframe thead th {\n",
       "        text-align: right;\n",
       "    }\n",
       "</style>\n",
       "<table border=\"1\" class=\"dataframe\">\n",
       "  <thead>\n",
       "    <tr style=\"text-align: right;\">\n",
       "      <th></th>\n",
       "      <th>CRIM</th>\n",
       "      <th>ZN</th>\n",
       "      <th>INDUS</th>\n",
       "      <th>CHAS</th>\n",
       "      <th>NOX</th>\n",
       "      <th>RM</th>\n",
       "      <th>AGE</th>\n",
       "      <th>DIS</th>\n",
       "      <th>RAD</th>\n",
       "      <th>TAX</th>\n",
       "      <th>PTRATIO</th>\n",
       "      <th>B</th>\n",
       "      <th>LSTAT</th>\n",
       "    </tr>\n",
       "  </thead>\n",
       "  <tbody>\n",
       "    <tr>\n",
       "      <th>0</th>\n",
       "      <td>0.00632</td>\n",
       "      <td>18.0</td>\n",
       "      <td>2.31</td>\n",
       "      <td>0.0</td>\n",
       "      <td>0.538</td>\n",
       "      <td>6.575</td>\n",
       "      <td>65.2</td>\n",
       "      <td>4.0900</td>\n",
       "      <td>1.0</td>\n",
       "      <td>296.0</td>\n",
       "      <td>15.3</td>\n",
       "      <td>396.90</td>\n",
       "      <td>4.98</td>\n",
       "    </tr>\n",
       "    <tr>\n",
       "      <th>1</th>\n",
       "      <td>0.02731</td>\n",
       "      <td>0.0</td>\n",
       "      <td>7.07</td>\n",
       "      <td>0.0</td>\n",
       "      <td>0.469</td>\n",
       "      <td>6.421</td>\n",
       "      <td>78.9</td>\n",
       "      <td>4.9671</td>\n",
       "      <td>2.0</td>\n",
       "      <td>242.0</td>\n",
       "      <td>17.8</td>\n",
       "      <td>396.90</td>\n",
       "      <td>9.14</td>\n",
       "    </tr>\n",
       "    <tr>\n",
       "      <th>2</th>\n",
       "      <td>0.02729</td>\n",
       "      <td>0.0</td>\n",
       "      <td>7.07</td>\n",
       "      <td>0.0</td>\n",
       "      <td>0.469</td>\n",
       "      <td>7.185</td>\n",
       "      <td>61.1</td>\n",
       "      <td>4.9671</td>\n",
       "      <td>2.0</td>\n",
       "      <td>242.0</td>\n",
       "      <td>17.8</td>\n",
       "      <td>392.83</td>\n",
       "      <td>4.03</td>\n",
       "    </tr>\n",
       "    <tr>\n",
       "      <th>3</th>\n",
       "      <td>0.03237</td>\n",
       "      <td>0.0</td>\n",
       "      <td>2.18</td>\n",
       "      <td>0.0</td>\n",
       "      <td>0.458</td>\n",
       "      <td>6.998</td>\n",
       "      <td>45.8</td>\n",
       "      <td>6.0622</td>\n",
       "      <td>3.0</td>\n",
       "      <td>222.0</td>\n",
       "      <td>18.7</td>\n",
       "      <td>394.63</td>\n",
       "      <td>2.94</td>\n",
       "    </tr>\n",
       "    <tr>\n",
       "      <th>4</th>\n",
       "      <td>0.06905</td>\n",
       "      <td>0.0</td>\n",
       "      <td>2.18</td>\n",
       "      <td>0.0</td>\n",
       "      <td>0.458</td>\n",
       "      <td>7.147</td>\n",
       "      <td>54.2</td>\n",
       "      <td>6.0622</td>\n",
       "      <td>3.0</td>\n",
       "      <td>222.0</td>\n",
       "      <td>18.7</td>\n",
       "      <td>396.90</td>\n",
       "      <td>5.33</td>\n",
       "    </tr>\n",
       "  </tbody>\n",
       "</table>\n",
       "</div>"
      ],
      "text/plain": [
       "      CRIM    ZN  INDUS  CHAS    NOX     RM   AGE     DIS  RAD    TAX  \\\n",
       "0  0.00632  18.0   2.31   0.0  0.538  6.575  65.2  4.0900  1.0  296.0   \n",
       "1  0.02731   0.0   7.07   0.0  0.469  6.421  78.9  4.9671  2.0  242.0   \n",
       "2  0.02729   0.0   7.07   0.0  0.469  7.185  61.1  4.9671  2.0  242.0   \n",
       "3  0.03237   0.0   2.18   0.0  0.458  6.998  45.8  6.0622  3.0  222.0   \n",
       "4  0.06905   0.0   2.18   0.0  0.458  7.147  54.2  6.0622  3.0  222.0   \n",
       "\n",
       "   PTRATIO       B  LSTAT  \n",
       "0     15.3  396.90   4.98  \n",
       "1     17.8  396.90   9.14  \n",
       "2     17.8  392.83   4.03  \n",
       "3     18.7  394.63   2.94  \n",
       "4     18.7  396.90   5.33  "
      ]
     },
     "execution_count": 5,
     "metadata": {},
     "output_type": "execute_result"
    }
   ],
   "source": [
    "X.head()"
   ]
  },
  {
   "cell_type": "markdown",
   "metadata": {},
   "source": [
    "- `CRIM`     per capita crime rate by town\n",
    "- `ZN`       proportion of residential land zoned for lots over 25,000 sq.ft.\n",
    "- `INDUS`    proportion of non-retail business acres per town\n",
    "- `CHAS`     Charles River dummy variable (= 1 if tract bounds river; 0 otherwise)\n",
    "- `NOX`      nitric oxides concentration (parts per 10 million)\n",
    "- `RM`      average number of rooms per dwelling\n",
    "- `AGE`      proportion of owner-occupied units built prior to 1940\n",
    "- `DIS`      weighted distances to five Boston employment centres\n",
    "- `RAD`      index of accessibility to radial highways\n",
    "- `TAX`      full-value property-tax rate per $10,000\n",
    "- `PTRATIO`  pupil-teacher ratio by town\n",
    "- `B`        1000(Bk - 0.63)^2 where Bk is the proportion of blacks by town\n",
    "- `LSTAT`    % lower status of the population\n",
    "- `MEDV`     Median value of owner-occupied homes in \\$1000's"
   ]
  },
  {
   "cell_type": "code",
   "execution_count": 3,
   "metadata": {},
   "outputs": [],
   "source": [
    "def plot_histgram(x, title=None, x_label=None):\n",
    "    fig, ax = plt.subplots()\n",
    "    # sns.distplot(x, kde=False, ax=ax)\n",
    "    ax.hist(x, bins=30, ec='black')\n",
    "    fig.suptitle(title)\n",
    "    ax.set_xlabel(x_label)\n",
    "    \n",
    "    fig.show()"
   ]
  },
  {
   "cell_type": "markdown",
   "metadata": {},
   "source": [
    "目的変数：地域ごとの住宅価格の中央値"
   ]
  },
  {
   "cell_type": "code",
   "execution_count": 4,
   "metadata": {},
   "outputs": [
    {
     "data": {
      "image/png": "[encoded data removed]",
      "text/plain": [
       "<Figure size 432x288 with 1 Axes>"
      ]
     },
     "metadata": {
      "needs_background": "light"
     },
     "output_type": "display_data"
    }
   ],
   "source": [
    "plot_histgram(y, title='目的変数の分布', x_label='MEDV')"
   ]
  },
  {
   "cell_type": "markdown",
   "metadata": {},
   "source": [
    "- 少し右に長い分布になっていて，正規分布から少し歪んでいるようにも見える\n",
    "    - 目的変数の対数を取ってから回帰モデルを当てはめると予測がうまく行く可能性があるが，回帰係数の解釈が若干複雑になる\n",
    "- 50付近で分布の山が高くなっていくことが分かる\n",
    "    - 50を越えたらその値にまとめてある？(トップコーディング)\n",
    "    - トップコーディングが行われたデータに対する回帰モデルとして，打ち切り回帰モデルが知られている"
   ]
  },
  {
   "cell_type": "markdown",
   "metadata": {},
   "source": [
    "注目する特徴量\n",
    "- `RM`:平均的な部屋の数\n",
    "- `LSTAT`:地域の低所得層の割合\n",
    "- `DIS`:都心からの距離\n",
    "- `CRIM`:犯罪率"
   ]
  },
  {
   "cell_type": "code",
   "execution_count": 18,
   "metadata": {},
   "outputs": [],
   "source": [
    "def plot_scatter(X, y, title=None):\n",
    "    \"\"\"\n",
    "    目的変数と特徴量の散布図の作成\n",
    "    \"\"\"\n",
    "    cols = X.columns\n",
    "    fig, axes = plt.subplots(nrows=1, ncols=4, figsize=(20,5))\n",
    "    for ax, c in zip(axes.ravel(), cols):\n",
    "        ax.scatter(X[c], y)\n",
    "        ax.set_ylabel('MEDV')\n",
    "        ax.grid()\n",
    "    fig.suptitle(title)\n",
    "    fig.show()"
   ]
  },
  {
   "cell_type": "code",
   "execution_count": 19,
   "metadata": {},
   "outputs": [
    {
     "data": {
      "image/png": "[encoded data removed]",
      "text/plain": [
       "<Figure size 1440x360 with 4 Axes>"
      ]
     },
     "metadata": {
      "needs_background": "light"
     },
     "output_type": "display_data"
    }
   ],
   "source": [
    "use_cols = ['RM', 'LSTAT', 'DIS', 'CRIM']\n",
    "title = '目的変数と各特徴量の関係'\n",
    "plot_scatter(X[use_cols], y, title=title)"
   ]
  },
  {
   "cell_type": "code",
   "execution_count": 21,
   "metadata": {},
   "outputs": [],
   "source": [
    "# 訓練データとテストデータに分割\n",
    "\n",
    "X_train, X_test, y_train, y_test = train_test_split(\n",
    "    X, y, test_size=0.2, random_state=42)"
   ]
  },
  {
   "cell_type": "code",
   "execution_count": 24,
   "metadata": {},
   "outputs": [
    {
     "data": {
      "text/plain": [
       "['data/boston_housing.pickle']"
      ]
     },
     "execution_count": 24,
     "metadata": {},
     "output_type": "execute_result"
    }
   ],
   "source": [
    "# 書き出し\n",
    "\n",
    "joblib.dump(\n",
    "    [X_train, X_test, y_train, y_test],\n",
    "    filename = 'data/boston_housing.pickle')"
   ]
  },
  {
   "cell_type": "code",
   "execution_count": 29,
   "metadata": {},
   "outputs": [
    {
     "data": {
      "text/plain": [
       "LinearRegression()"
      ]
     },
     "execution_count": 29,
     "metadata": {},
     "output_type": "execute_result"
    }
   ],
   "source": [
    "model = LinearRegression()\n",
    "model.fit(X_train, y_train)"
   ]
  },
  {
   "cell_type": "markdown",
   "metadata": {},
   "source": [
    "Root Mean Squared Error ... 誤差の平均(小さいほど良い)\n",
    "\n",
    "$$\n",
    "RMSE = \\sqrt{MSE} = \\sqrt{\\frac{1}{N}\\sum_{i=1}^{N}(y_i - \\hat{y_i})^2}\n",
    "$$\n",
    "\n",
    "$R^2$(R-squared) ... モデルがデータをどの程度説明できているのか(大きいほど良い)\n",
    "\n",
    "$$\n",
    "R^2 = 1 - \\frac{\\sum_{i=1}^{N}(y_i - \\hat{y_i})^2}{\\sum_{i=1}^{N}(y_i - \\bar{y_i})^2}\n",
    "$$"
   ]
  },
  {
   "cell_type": "code",
   "execution_count": 31,
   "metadata": {},
   "outputs": [],
   "source": [
    "def regression_metrics(estimator, X, y):\n",
    "    \"\"\"\n",
    "    回帰精度の評価指標をまとめて返す関数\n",
    "    \"\"\"\n",
    "    # テストデータで予測\n",
    "    y_pred = estimator.predict(X)\n",
    "    # 評価指標をデータフレームにまとめる\n",
    "    df = pd.DataFrame(\n",
    "        data = {\n",
    "            'RMSE': [mean_squared_error(y, y_pred, squared=False)],\n",
    "            'R2': [r2_score(y, y_pred)]})\n",
    "    return df"
   ]
  },
  {
   "cell_type": "code",
   "execution_count": 32,
   "metadata": {},
   "outputs": [
    {
     "data": {
      "text/html": [
       "<div>\n",
       "<style scoped>\n",
       "    .dataframe tbody tr th:only-of-type {\n",
       "        vertical-align: middle;\n",
       "    }\n",
       "\n",
       "    .dataframe tbody tr th {\n",
       "        vertical-align: top;\n",
       "    }\n",
       "\n",
       "    .dataframe thead th {\n",
       "        text-align: right;\n",
       "    }\n",
       "</style>\n",
       "<table border=\"1\" class=\"dataframe\">\n",
       "  <thead>\n",
       "    <tr style=\"text-align: right;\">\n",
       "      <th></th>\n",
       "      <th>RMSE</th>\n",
       "      <th>R2</th>\n",
       "    </tr>\n",
       "  </thead>\n",
       "  <tbody>\n",
       "    <tr>\n",
       "      <th>0</th>\n",
       "      <td>4.928602</td>\n",
       "      <td>0.668759</td>\n",
       "    </tr>\n",
       "  </tbody>\n",
       "</table>\n",
       "</div>"
      ],
      "text/plain": [
       "       RMSE        R2\n",
       "0  4.928602  0.668759"
      ]
     },
     "execution_count": 32,
     "metadata": {},
     "output_type": "execute_result"
    }
   ],
   "source": [
    "regression_metrics(model, X_test, y_test)"
   ]
  },
  {
   "cell_type": "markdown",
   "metadata": {},
   "source": [
    "- 平均的には予測を4.93だけ外している\n",
    "- 平均では予測できなかった住宅価格のばらつきのうち約67%を予測できていることが見てとれる"
   ]
  },
  {
   "cell_type": "markdown",
   "metadata": {},
   "source": [
    "モデルの解釈"
   ]
  },
  {
   "cell_type": "code",
   "execution_count": 34,
   "metadata": {},
   "outputs": [],
   "source": [
    "def get_coef(estimator, var_names):\n",
    "    \"\"\"\n",
    "    特徴量名と回帰係数が対応したデータフレームを作成する\n",
    "    \"\"\"\n",
    "    # 切片含む回帰係数と特徴量の名前を抜き出してデータフレームにまとめる\n",
    "    df = pd.DataFrame(\n",
    "        data = {'coef': [estimator.intercept_] + estimator.coef_.tolist()},\n",
    "        index = ['intercept'] + var_names)\n",
    "    return df"
   ]
  },
  {
   "cell_type": "code",
   "execution_count": 36,
   "metadata": {},
   "outputs": [
    {
     "data": {
      "text/html": [
       "<div>\n",
       "<style scoped>\n",
       "    .dataframe tbody tr th:only-of-type {\n",
       "        vertical-align: middle;\n",
       "    }\n",
       "\n",
       "    .dataframe tbody tr th {\n",
       "        vertical-align: top;\n",
       "    }\n",
       "\n",
       "    .dataframe thead th {\n",
       "        text-align: right;\n",
       "    }\n",
       "</style>\n",
       "<table border=\"1\" class=\"dataframe\">\n",
       "  <thead>\n",
       "    <tr style=\"text-align: right;\">\n",
       "      <th></th>\n",
       "      <th>intercept</th>\n",
       "      <th>CRIM</th>\n",
       "      <th>ZN</th>\n",
       "      <th>INDUS</th>\n",
       "      <th>CHAS</th>\n",
       "      <th>NOX</th>\n",
       "      <th>RM</th>\n",
       "      <th>AGE</th>\n",
       "      <th>DIS</th>\n",
       "      <th>RAD</th>\n",
       "      <th>TAX</th>\n",
       "      <th>PTRATIO</th>\n",
       "      <th>B</th>\n",
       "      <th>LSTAT</th>\n",
       "    </tr>\n",
       "  </thead>\n",
       "  <tbody>\n",
       "    <tr>\n",
       "      <th>coef</th>\n",
       "      <td>30.246751</td>\n",
       "      <td>-0.113056</td>\n",
       "      <td>0.03011</td>\n",
       "      <td>0.040381</td>\n",
       "      <td>2.784438</td>\n",
       "      <td>-17.202633</td>\n",
       "      <td>4.438835</td>\n",
       "      <td>-0.006296</td>\n",
       "      <td>-1.447865</td>\n",
       "      <td>0.26243</td>\n",
       "      <td>-0.010647</td>\n",
       "      <td>-0.915456</td>\n",
       "      <td>0.012351</td>\n",
       "      <td>-0.508571</td>\n",
       "    </tr>\n",
       "  </tbody>\n",
       "</table>\n",
       "</div>"
      ],
      "text/plain": [
       "      intercept      CRIM       ZN     INDUS      CHAS        NOX        RM  \\\n",
       "coef  30.246751 -0.113056  0.03011  0.040381  2.784438 -17.202633  4.438835   \n",
       "\n",
       "           AGE       DIS      RAD       TAX   PTRATIO         B     LSTAT  \n",
       "coef -0.006296 -1.447865  0.26243 -0.010647 -0.915456  0.012351 -0.508571  "
      ]
     },
     "execution_count": 36,
     "metadata": {},
     "output_type": "execute_result"
    }
   ],
   "source": [
    "# 回帰係数の取り出し\n",
    "df_coef = get_coef(model, X.columns.tolist())\n",
    "df_coef.T"
   ]
  },
  {
   "cell_type": "code",
   "execution_count": null,
   "metadata": {},
   "outputs": [],
   "source": []
  },
  {
   "cell_type": "code",
   "execution_count": 37,
   "metadata": {},
   "outputs": [],
   "source": [
    "X_train2 = X_train.copy()\n",
    "X_test2 = X_test.copy()"
   ]
  },
  {
   "cell_type": "code",
   "execution_count": 41,
   "metadata": {},
   "outputs": [
    {
     "data": {
      "text/html": [
       "<div>\n",
       "<style scoped>\n",
       "    .dataframe tbody tr th:only-of-type {\n",
       "        vertical-align: middle;\n",
       "    }\n",
       "\n",
       "    .dataframe tbody tr th {\n",
       "        vertical-align: top;\n",
       "    }\n",
       "\n",
       "    .dataframe thead th {\n",
       "        text-align: right;\n",
       "    }\n",
       "</style>\n",
       "<table border=\"1\" class=\"dataframe\">\n",
       "  <thead>\n",
       "    <tr style=\"text-align: right;\">\n",
       "      <th></th>\n",
       "      <th>RMSE</th>\n",
       "      <th>R2</th>\n",
       "    </tr>\n",
       "  </thead>\n",
       "  <tbody>\n",
       "    <tr>\n",
       "      <th>0</th>\n",
       "      <td>3.775386</td>\n",
       "      <td>0.805635</td>\n",
       "    </tr>\n",
       "  </tbody>\n",
       "</table>\n",
       "</div>"
      ],
      "text/plain": [
       "       RMSE        R2\n",
       "0  3.775386  0.805635"
      ]
     },
     "execution_count": 41,
     "metadata": {},
     "output_type": "execute_result"
    }
   ],
   "source": [
    "# 二乗項を追加\n",
    "X_train2['LSTAT2'] = X_test2['LSTAT'] ** 2 \n",
    "X_test2['LSTAT2'] = X_test2['LSTAT'] ** 2\n",
    "\n",
    "# 学習\n",
    "model2 = LinearRegression()\n",
    "model2.fit(X_test2, y_test)\n",
    "\n",
    "# 精度評価\n",
    "regression_metrics(model2, X_test2, y_test)"
   ]
  },
  {
   "cell_type": "code",
   "execution_count": 42,
   "metadata": {},
   "outputs": [],
   "source": [
    "# もともと\n",
    "# RMSE\tR2\n",
    "# 4.928602\t0.668759\n",
    "\n",
    "# 変数追加後\n",
    "# RMSE\tR2\n",
    "# 3.775386\t0.805635"
   ]
  },
  {
   "cell_type": "markdown",
   "metadata": {},
   "source": [
    "- 特徴量を追加することによって，予測精度が改善した "
   ]
  },
  {
   "cell_type": "code",
   "execution_count": 45,
   "metadata": {},
   "outputs": [
    {
     "name": "stdout",
     "output_type": "stream",
     "text": [
      "もともと\n"
     ]
    },
    {
     "data": {
      "text/html": [
       "<div>\n",
       "<style scoped>\n",
       "    .dataframe tbody tr th:only-of-type {\n",
       "        vertical-align: middle;\n",
       "    }\n",
       "\n",
       "    .dataframe tbody tr th {\n",
       "        vertical-align: top;\n",
       "    }\n",
       "\n",
       "    .dataframe thead th {\n",
       "        text-align: right;\n",
       "    }\n",
       "</style>\n",
       "<table border=\"1\" class=\"dataframe\">\n",
       "  <thead>\n",
       "    <tr style=\"text-align: right;\">\n",
       "      <th></th>\n",
       "      <th>intercept</th>\n",
       "      <th>CRIM</th>\n",
       "      <th>ZN</th>\n",
       "      <th>INDUS</th>\n",
       "      <th>CHAS</th>\n",
       "      <th>NOX</th>\n",
       "      <th>RM</th>\n",
       "      <th>AGE</th>\n",
       "      <th>DIS</th>\n",
       "      <th>RAD</th>\n",
       "      <th>TAX</th>\n",
       "      <th>PTRATIO</th>\n",
       "      <th>B</th>\n",
       "      <th>LSTAT</th>\n",
       "    </tr>\n",
       "  </thead>\n",
       "  <tbody>\n",
       "    <tr>\n",
       "      <th>coef</th>\n",
       "      <td>30.246751</td>\n",
       "      <td>-0.113056</td>\n",
       "      <td>0.03011</td>\n",
       "      <td>0.040381</td>\n",
       "      <td>2.784438</td>\n",
       "      <td>-17.202633</td>\n",
       "      <td>4.438835</td>\n",
       "      <td>-0.006296</td>\n",
       "      <td>-1.447865</td>\n",
       "      <td>0.26243</td>\n",
       "      <td>-0.010647</td>\n",
       "      <td>-0.915456</td>\n",
       "      <td>0.012351</td>\n",
       "      <td>-0.508571</td>\n",
       "    </tr>\n",
       "  </tbody>\n",
       "</table>\n",
       "</div>"
      ],
      "text/plain": [
       "      intercept      CRIM       ZN     INDUS      CHAS        NOX        RM  \\\n",
       "coef  30.246751 -0.113056  0.03011  0.040381  2.784438 -17.202633  4.438835   \n",
       "\n",
       "           AGE       DIS      RAD       TAX   PTRATIO         B     LSTAT  \n",
       "coef -0.006296 -1.447865  0.26243 -0.010647 -0.915456  0.012351 -0.508571  "
      ]
     },
     "metadata": {},
     "output_type": "display_data"
    },
    {
     "name": "stdout",
     "output_type": "stream",
     "text": [
      "変数追加後\n"
     ]
    },
    {
     "data": {
      "text/html": [
       "<div>\n",
       "<style scoped>\n",
       "    .dataframe tbody tr th:only-of-type {\n",
       "        vertical-align: middle;\n",
       "    }\n",
       "\n",
       "    .dataframe tbody tr th {\n",
       "        vertical-align: top;\n",
       "    }\n",
       "\n",
       "    .dataframe thead th {\n",
       "        text-align: right;\n",
       "    }\n",
       "</style>\n",
       "<table border=\"1\" class=\"dataframe\">\n",
       "  <thead>\n",
       "    <tr style=\"text-align: right;\">\n",
       "      <th></th>\n",
       "      <th>intercept</th>\n",
       "      <th>CRIM</th>\n",
       "      <th>ZN</th>\n",
       "      <th>INDUS</th>\n",
       "      <th>CHAS</th>\n",
       "      <th>NOX</th>\n",
       "      <th>RM</th>\n",
       "      <th>AGE</th>\n",
       "      <th>DIS</th>\n",
       "      <th>RAD</th>\n",
       "      <th>TAX</th>\n",
       "      <th>PTRATIO</th>\n",
       "      <th>B</th>\n",
       "      <th>LSTAT</th>\n",
       "      <th>LSTAT2</th>\n",
       "    </tr>\n",
       "  </thead>\n",
       "  <tbody>\n",
       "    <tr>\n",
       "      <th>coef</th>\n",
       "      <td>60.009875</td>\n",
       "      <td>-0.361805</td>\n",
       "      <td>0.066954</td>\n",
       "      <td>0.09521</td>\n",
       "      <td>1.343053</td>\n",
       "      <td>-20.532052</td>\n",
       "      <td>1.462291</td>\n",
       "      <td>0.064274</td>\n",
       "      <td>-0.97306</td>\n",
       "      <td>0.453484</td>\n",
       "      <td>-0.015133</td>\n",
       "      <td>-1.010772</td>\n",
       "      <td>-0.000655</td>\n",
       "      <td>-1.911417</td>\n",
       "      <td>0.039656</td>\n",
       "    </tr>\n",
       "  </tbody>\n",
       "</table>\n",
       "</div>"
      ],
      "text/plain": [
       "      intercept      CRIM        ZN    INDUS      CHAS        NOX        RM  \\\n",
       "coef  60.009875 -0.361805  0.066954  0.09521  1.343053 -20.532052  1.462291   \n",
       "\n",
       "           AGE      DIS       RAD       TAX   PTRATIO         B     LSTAT  \\\n",
       "coef  0.064274 -0.97306  0.453484 -0.015133 -1.010772 -0.000655 -1.911417   \n",
       "\n",
       "        LSTAT2  \n",
       "coef  0.039656  "
      ]
     },
     "metadata": {},
     "output_type": "display_data"
    }
   ],
   "source": [
    "# 回帰係数\n",
    "print('もともと')\n",
    "display(df_coef.T)\n",
    "df_coef2 = get_coef(model2, X_train2.columns.tolist())\n",
    "print('変数追加後')\n",
    "display(df_coef2.T)"
   ]
  },
  {
   "cell_type": "markdown",
   "metadata": {},
   "source": [
    "LSTATの回帰係数は`-1.92`，二乗項の係数は`0.03`なので，LSTATが1単位大きくなったときに予測値に与える影響は，$f(X)=\\alpha X + \\beta X^2$のとき，$\\frac{\\partial f(X)}{\\partial X} = \\alpha + 2 \\times \\beta \\times LSTAT$であるから\n",
    "\n",
    "$$\n",
    "-1.91 + 2 \\times 0.03 \\times LSTAT\n",
    "$$\n",
    "\n",
    "であるから，LSTATが1単位増加した際に予測値に与えるマイナスの影響は，元々のLSTATの水準が高くなればなるほど(絶対値で見て)小さくなることが分かる"
   ]
  },
  {
   "cell_type": "code",
   "execution_count": 60,
   "metadata": {},
   "outputs": [],
   "source": [
    "def calc_lstat_impact(df_coef, lstat):\n",
    "    \"\"\"\n",
    "    LSTATAが1単位増加したときに予測値に影響\n",
    "    \"\"\"\n",
    "    return (df_coef.loc['LSTAT'] + 2 * df_coef.loc['LSTAT2'] * lstat).values[0]"
   ]
  },
  {
   "cell_type": "code",
   "execution_count": 61,
   "metadata": {},
   "outputs": [
    {
     "name": "stdout",
     "output_type": "stream",
     "text": [
      "LSTAT_coef = -1.91\n",
      "index=274においてLSTATが1単位増加したときの効果(LSTAT=3.53) : -1.63\n"
     ]
    }
   ],
   "source": [
    "i = 274\n",
    "lstat = X_test2.loc[i, 'LSTAT']\n",
    "impact = calc_lstat_impact(df_coef2, lstat)\n",
    "print(f\"LSTAT_coef = {df_coef2.loc['LSTAT'].values[0]:.2f}\")\n",
    "print(f\"index={i}においてLSTATが1単位増加したときの効果(LSTAT={lstat:.2f}) : {impact:.2f}\")"
   ]
  },
  {
   "cell_type": "code",
   "execution_count": 62,
   "metadata": {},
   "outputs": [
    {
     "name": "stdout",
     "output_type": "stream",
     "text": [
      "LSTAT_coef = -1.91\n",
      "index=491においてLSTATが1単位増加したときの効果(LSTAT=18.07) : -0.48\n"
     ]
    }
   ],
   "source": [
    "i = 491\n",
    "lstat = X_test2.loc[i, 'LSTAT']\n",
    "impact = calc_lstat_impact(df_coef2, lstat)\n",
    "print(f\"LSTAT_coef = {df_coef2.loc['LSTAT'].values[0]:.2f}\")\n",
    "print(f\"index={i}においてLSTATが1単位増加したときの効果(LSTAT={lstat:.2f}) : {impact:.2f}\")"
   ]
  },
  {
   "cell_type": "markdown",
   "metadata": {},
   "source": [
    "- LSTATの水準が高いインスタンス491の方が，LSTATの水準が低いインスタンス274と比較して，LSTATが1単位増加したときの効果が小さくなっている\n",
    "    - 低所得者層の割合が高いインスタンスにおいては低所得者層の割合が増加したとしても予測値に与える影響が小さい\n",
    "    - 低所得者の割合が低いインスタンスにおいては低所得者層の割合が増加すると予測値に与える影響が大きい"
   ]
  },
  {
   "cell_type": "code",
   "execution_count": 63,
   "metadata": {},
   "outputs": [
    {
     "data": {
      "text/html": [
       "<div>\n",
       "<style scoped>\n",
       "    .dataframe tbody tr th:only-of-type {\n",
       "        vertical-align: middle;\n",
       "    }\n",
       "\n",
       "    .dataframe tbody tr th {\n",
       "        vertical-align: top;\n",
       "    }\n",
       "\n",
       "    .dataframe thead th {\n",
       "        text-align: right;\n",
       "    }\n",
       "</style>\n",
       "<table border=\"1\" class=\"dataframe\">\n",
       "  <thead>\n",
       "    <tr style=\"text-align: right;\">\n",
       "      <th></th>\n",
       "      <th>intercept</th>\n",
       "      <th>CRIM</th>\n",
       "      <th>ZN</th>\n",
       "      <th>INDUS</th>\n",
       "      <th>CHAS</th>\n",
       "      <th>NOX</th>\n",
       "      <th>RM</th>\n",
       "      <th>AGE</th>\n",
       "      <th>DIS</th>\n",
       "      <th>RAD</th>\n",
       "      <th>TAX</th>\n",
       "      <th>PTRATIO</th>\n",
       "      <th>B</th>\n",
       "      <th>LSTAT</th>\n",
       "    </tr>\n",
       "  </thead>\n",
       "  <tbody>\n",
       "    <tr>\n",
       "      <th>coef</th>\n",
       "      <td>30.246751</td>\n",
       "      <td>-0.113056</td>\n",
       "      <td>0.03011</td>\n",
       "      <td>0.040381</td>\n",
       "      <td>2.784438</td>\n",
       "      <td>-17.202633</td>\n",
       "      <td>4.438835</td>\n",
       "      <td>-0.006296</td>\n",
       "      <td>-1.447865</td>\n",
       "      <td>0.26243</td>\n",
       "      <td>-0.010647</td>\n",
       "      <td>-0.915456</td>\n",
       "      <td>0.012351</td>\n",
       "      <td>-0.508571</td>\n",
       "    </tr>\n",
       "  </tbody>\n",
       "</table>\n",
       "</div>"
      ],
      "text/plain": [
       "      intercept      CRIM       ZN     INDUS      CHAS        NOX        RM  \\\n",
       "coef  30.246751 -0.113056  0.03011  0.040381  2.784438 -17.202633  4.438835   \n",
       "\n",
       "           AGE       DIS      RAD       TAX   PTRATIO         B     LSTAT  \n",
       "coef -0.006296 -1.447865  0.26243 -0.010647 -0.915456  0.012351 -0.508571  "
      ]
     },
     "execution_count": 63,
     "metadata": {},
     "output_type": "execute_result"
    }
   ],
   "source": [
    "df_coef.T"
   ]
  },
  {
   "cell_type": "markdown",
   "metadata": {},
   "source": [
    "- NOX(酸化窒素濃度)の回帰係数の絶対値が最も大きいが，モデルにとってもっとも重要な変数かと言われると，そうではない"
   ]
  },
  {
   "cell_type": "code",
   "execution_count": 65,
   "metadata": {},
   "outputs": [
    {
     "name": "stdout",
     "output_type": "stream",
     "text": [
      "3.561 ~ 8.78\n",
      "0.385 ~ 0.871\n"
     ]
    }
   ],
   "source": [
    "print(f\"{X['RM'].min()} ~ {X['RM'].max()}\")\n",
    "print(f\"{X['NOX'].min()} ~ {X['NOX'].max()}\")"
   ]
  },
  {
   "cell_type": "markdown",
   "metadata": {},
   "source": [
    "それぞれの特徴量は最小〜最大の値のスケールがことなるため，1単位増加の意味合いが統一されていない→標準化する"
   ]
  },
  {
   "cell_type": "markdown",
   "metadata": {},
   "source": [
    "特徴量の標準化\n",
    "\n",
    "$$\n",
    "\\tilde{x_i} = \\frac{x_i - \\bar{x}}{SD(x)} \\\\\n",
    "\\hat{x} = \\frac{1}{N} \\sum_{i=1}^{N} x_i, \\\\\n",
    "SD(x) = \\sqrt{\\frac{1}{N} \\sum_{i=1}^{N} (x_i - \\bar{x})^2}\n",
    "$$"
   ]
  },
  {
   "cell_type": "code",
   "execution_count": 67,
   "metadata": {},
   "outputs": [
    {
     "data": {
      "text/html": [
       "<div>\n",
       "<style scoped>\n",
       "    .dataframe tbody tr th:only-of-type {\n",
       "        vertical-align: middle;\n",
       "    }\n",
       "\n",
       "    .dataframe tbody tr th {\n",
       "        vertical-align: top;\n",
       "    }\n",
       "\n",
       "    .dataframe thead th {\n",
       "        text-align: right;\n",
       "    }\n",
       "</style>\n",
       "<table border=\"1\" class=\"dataframe\">\n",
       "  <thead>\n",
       "    <tr style=\"text-align: right;\">\n",
       "      <th></th>\n",
       "      <th>RMSE</th>\n",
       "      <th>R2</th>\n",
       "    </tr>\n",
       "  </thead>\n",
       "  <tbody>\n",
       "    <tr>\n",
       "      <th>0</th>\n",
       "      <td>4.928602</td>\n",
       "      <td>0.668759</td>\n",
       "    </tr>\n",
       "  </tbody>\n",
       "</table>\n",
       "</div>"
      ],
      "text/plain": [
       "       RMSE        R2\n",
       "0  4.928602  0.668759"
      ]
     },
     "execution_count": 67,
     "metadata": {},
     "output_type": "execute_result"
    }
   ],
   "source": [
    "# 訓練データから平均と分散を計算\n",
    "ss = StandardScaler()\n",
    "ss.fit(X_train)\n",
    "\n",
    "# 標準化：平均を引いて標準偏差で割る\n",
    "X_train_ss = ss.transform(X_train)\n",
    "X_test_ss = ss.transform(X_test)\n",
    "\n",
    "# 学習\n",
    "model_ss = LinearRegression()\n",
    "model_ss.fit(X_train_ss, y_train)\n",
    "\n",
    "# 精度評価\n",
    "regression_metrics(model_ss, X_test_ss, y_test)"
   ]
  },
  {
   "cell_type": "code",
   "execution_count": 68,
   "metadata": {},
   "outputs": [
    {
     "data": {
      "text/html": [
       "<div>\n",
       "<style scoped>\n",
       "    .dataframe tbody tr th:only-of-type {\n",
       "        vertical-align: middle;\n",
       "    }\n",
       "\n",
       "    .dataframe tbody tr th {\n",
       "        vertical-align: top;\n",
       "    }\n",
       "\n",
       "    .dataframe thead th {\n",
       "        text-align: right;\n",
       "    }\n",
       "</style>\n",
       "<table border=\"1\" class=\"dataframe\">\n",
       "  <thead>\n",
       "    <tr style=\"text-align: right;\">\n",
       "      <th></th>\n",
       "      <th>intercept</th>\n",
       "      <th>CRIM</th>\n",
       "      <th>ZN</th>\n",
       "      <th>INDUS</th>\n",
       "      <th>CHAS</th>\n",
       "      <th>NOX</th>\n",
       "      <th>RM</th>\n",
       "      <th>AGE</th>\n",
       "      <th>DIS</th>\n",
       "      <th>RAD</th>\n",
       "      <th>TAX</th>\n",
       "      <th>PTRATIO</th>\n",
       "      <th>B</th>\n",
       "      <th>LSTAT</th>\n",
       "    </tr>\n",
       "  </thead>\n",
       "  <tbody>\n",
       "    <tr>\n",
       "      <th>coef</th>\n",
       "      <td>22.796535</td>\n",
       "      <td>-1.002135</td>\n",
       "      <td>0.696269</td>\n",
       "      <td>0.278065</td>\n",
       "      <td>0.718738</td>\n",
       "      <td>-2.022319</td>\n",
       "      <td>3.14524</td>\n",
       "      <td>-0.176048</td>\n",
       "      <td>-3.081908</td>\n",
       "      <td>2.251407</td>\n",
       "      <td>-1.767014</td>\n",
       "      <td>-2.037752</td>\n",
       "      <td>1.129568</td>\n",
       "      <td>-3.611658</td>\n",
       "    </tr>\n",
       "  </tbody>\n",
       "</table>\n",
       "</div>"
      ],
      "text/plain": [
       "      intercept      CRIM        ZN     INDUS      CHAS       NOX       RM  \\\n",
       "coef  22.796535 -1.002135  0.696269  0.278065  0.718738 -2.022319  3.14524   \n",
       "\n",
       "           AGE       DIS       RAD       TAX   PTRATIO         B     LSTAT  \n",
       "coef -0.176048 -3.081908  2.251407 -1.767014 -2.037752  1.129568 -3.611658  "
      ]
     },
     "execution_count": 68,
     "metadata": {},
     "output_type": "execute_result"
    }
   ],
   "source": [
    "df_coef_ss = get_coef(model_ss, X_train.columns.tolist())\n",
    "df_coef_ss.T"
   ]
  },
  {
   "cell_type": "markdown",
   "metadata": {},
   "source": [
    "- 標準化後の回帰係数は`RM > NOX`となった"
   ]
  },
  {
   "cell_type": "markdown",
   "metadata": {},
   "source": [
    "予測の理由：｢線形回帰モデルがなぜこの予測値を出したのか｣を説明する"
   ]
  },
  {
   "cell_type": "code",
   "execution_count": 73,
   "metadata": {},
   "outputs": [
    {
     "name": "stdout",
     "output_type": "stream",
     "text": [
      "インスタンス173に対する予測値：29.00\n"
     ]
    }
   ],
   "source": [
    "# 先頭のインスタンス\n",
    "X_i = X_test.iloc[[0]]\n",
    "\n",
    "print(f\"インスタンス{X_i.index[0]}に対する予測値：{model.predict(X_i)[0]:.2f}\")"
   ]
  },
  {
   "cell_type": "code",
   "execution_count": 74,
   "metadata": {},
   "outputs": [
    {
     "data": {
      "text/html": [
       "<div>\n",
       "<style scoped>\n",
       "    .dataframe tbody tr th:only-of-type {\n",
       "        vertical-align: middle;\n",
       "    }\n",
       "\n",
       "    .dataframe tbody tr th {\n",
       "        vertical-align: top;\n",
       "    }\n",
       "\n",
       "    .dataframe thead th {\n",
       "        text-align: right;\n",
       "    }\n",
       "</style>\n",
       "<table border=\"1\" class=\"dataframe\">\n",
       "  <thead>\n",
       "    <tr style=\"text-align: right;\">\n",
       "      <th></th>\n",
       "      <th>CRIM</th>\n",
       "      <th>ZN</th>\n",
       "      <th>INDUS</th>\n",
       "      <th>CHAS</th>\n",
       "      <th>NOX</th>\n",
       "      <th>RM</th>\n",
       "      <th>AGE</th>\n",
       "      <th>DIS</th>\n",
       "      <th>RAD</th>\n",
       "      <th>TAX</th>\n",
       "      <th>PTRATIO</th>\n",
       "      <th>B</th>\n",
       "      <th>LSTAT</th>\n",
       "    </tr>\n",
       "  </thead>\n",
       "  <tbody>\n",
       "    <tr>\n",
       "      <th>173</th>\n",
       "      <td>0.09178</td>\n",
       "      <td>0.0</td>\n",
       "      <td>4.05</td>\n",
       "      <td>0.0</td>\n",
       "      <td>0.51</td>\n",
       "      <td>6.416</td>\n",
       "      <td>84.1</td>\n",
       "      <td>2.6463</td>\n",
       "      <td>5.0</td>\n",
       "      <td>296.0</td>\n",
       "      <td>16.6</td>\n",
       "      <td>395.5</td>\n",
       "      <td>9.04</td>\n",
       "    </tr>\n",
       "  </tbody>\n",
       "</table>\n",
       "</div>"
      ],
      "text/plain": [
       "        CRIM   ZN  INDUS  CHAS   NOX     RM   AGE     DIS  RAD    TAX  \\\n",
       "173  0.09178  0.0   4.05   0.0  0.51  6.416  84.1  2.6463  5.0  296.0   \n",
       "\n",
       "     PTRATIO      B  LSTAT  \n",
       "173     16.6  395.5   9.04  "
      ]
     },
     "execution_count": 74,
     "metadata": {},
     "output_type": "execute_result"
    }
   ],
   "source": [
    "X_i"
   ]
  },
  {
   "cell_type": "markdown",
   "metadata": {},
   "source": [
    "回帰係数を用いれば予測の理由が完璧に分かる"
   ]
  },
  {
   "cell_type": "code",
   "execution_count": 75,
   "metadata": {},
   "outputs": [
    {
     "data": {
      "text/html": [
       "<div>\n",
       "<style scoped>\n",
       "    .dataframe tbody tr th:only-of-type {\n",
       "        vertical-align: middle;\n",
       "    }\n",
       "\n",
       "    .dataframe tbody tr th {\n",
       "        vertical-align: top;\n",
       "    }\n",
       "\n",
       "    .dataframe thead th {\n",
       "        text-align: right;\n",
       "    }\n",
       "</style>\n",
       "<table border=\"1\" class=\"dataframe\">\n",
       "  <thead>\n",
       "    <tr style=\"text-align: right;\">\n",
       "      <th></th>\n",
       "      <th>intercept</th>\n",
       "      <th>CRIM</th>\n",
       "      <th>ZN</th>\n",
       "      <th>INDUS</th>\n",
       "      <th>CHAS</th>\n",
       "      <th>NOX</th>\n",
       "      <th>RM</th>\n",
       "      <th>AGE</th>\n",
       "      <th>DIS</th>\n",
       "      <th>RAD</th>\n",
       "      <th>TAX</th>\n",
       "      <th>PTRATIO</th>\n",
       "      <th>B</th>\n",
       "      <th>LSTAT</th>\n",
       "    </tr>\n",
       "  </thead>\n",
       "  <tbody>\n",
       "    <tr>\n",
       "      <th>coef</th>\n",
       "      <td>30.246751</td>\n",
       "      <td>-0.113056</td>\n",
       "      <td>0.03011</td>\n",
       "      <td>0.040381</td>\n",
       "      <td>2.784438</td>\n",
       "      <td>-17.202633</td>\n",
       "      <td>4.438835</td>\n",
       "      <td>-0.006296</td>\n",
       "      <td>-1.447865</td>\n",
       "      <td>0.26243</td>\n",
       "      <td>-0.010647</td>\n",
       "      <td>-0.915456</td>\n",
       "      <td>0.012351</td>\n",
       "      <td>-0.508571</td>\n",
       "    </tr>\n",
       "  </tbody>\n",
       "</table>\n",
       "</div>"
      ],
      "text/plain": [
       "      intercept      CRIM       ZN     INDUS      CHAS        NOX        RM  \\\n",
       "coef  30.246751 -0.113056  0.03011  0.040381  2.784438 -17.202633  4.438835   \n",
       "\n",
       "           AGE       DIS      RAD       TAX   PTRATIO         B     LSTAT  \n",
       "coef -0.006296 -1.447865  0.26243 -0.010647 -0.915456  0.012351 -0.508571  "
      ]
     },
     "execution_count": 75,
     "metadata": {},
     "output_type": "execute_result"
    }
   ],
   "source": [
    "df_coef.T"
   ]
  },
  {
   "cell_type": "markdown",
   "metadata": {},
   "source": [
    "ランダムフォレストによる予測"
   ]
  },
  {
   "cell_type": "markdown",
   "metadata": {},
   "source": [
    "- `n_estimator`:アンサンブルに用いる決定木の総数．基本的に多くすれば予測精度は高くなるが，学習と予測の測度は遅くなる．決定木を追加する効果は逓減していくので，あまり多くても\n",
    "時間がかかるだけで得られるメリットは少なくなる．デフォルトでは100．予測精度を上げたい場合は，グリッドサーチなどで探索するのではなく，十分に大きな値で決め打ちする．\n",
    "- `min_samples_in_leaf`:ひとつひとつの決定木の最終ノードに含まれるインスタンス数の下限を指定．デフォルトでは1．大きくするとオーバーフィットを防げるが，大きすぎるとアンダーフィットする．副作用として，ひとつひとつの決定木の分割が小さくなる分，木が浅くなり計算時間が短縮される．グリッドサーチで探索するべきパラメータ\n",
    "- `max_features`:分割の際にランダムに選ばれる特徴量の候補を絶対数または割合で指定できる．分割できる特徴量を一部に限定することで決定木ごとの相関小さくすることが目的．\n",
    "デフォルトだと全特徴量が候補となる．予測精度を上げたい場合は，グリッドサーチなどで探索すると良い"
   ]
  },
  {
   "cell_type": "code",
   "execution_count": 78,
   "metadata": {},
   "outputs": [
    {
     "data": {
      "text/html": [
       "<div>\n",
       "<style scoped>\n",
       "    .dataframe tbody tr th:only-of-type {\n",
       "        vertical-align: middle;\n",
       "    }\n",
       "\n",
       "    .dataframe tbody tr th {\n",
       "        vertical-align: top;\n",
       "    }\n",
       "\n",
       "    .dataframe thead th {\n",
       "        text-align: right;\n",
       "    }\n",
       "</style>\n",
       "<table border=\"1\" class=\"dataframe\">\n",
       "  <thead>\n",
       "    <tr style=\"text-align: right;\">\n",
       "      <th></th>\n",
       "      <th>RMSE</th>\n",
       "      <th>R2</th>\n",
       "    </tr>\n",
       "  </thead>\n",
       "  <tbody>\n",
       "    <tr>\n",
       "      <th>0</th>\n",
       "      <td>2.810963</td>\n",
       "      <td>0.892253</td>\n",
       "    </tr>\n",
       "  </tbody>\n",
       "</table>\n",
       "</div>"
      ],
      "text/plain": [
       "       RMSE        R2\n",
       "0  2.810963  0.892253"
      ]
     },
     "execution_count": 78,
     "metadata": {},
     "output_type": "execute_result"
    }
   ],
   "source": [
    "# Random Forestの学習\n",
    "# n_jobs == -1 で利用可能な全てのCPUを使って計算を並列化する\n",
    "\n",
    "rf = RandomForestRegressor(n_jobs=-1, random_state=42)\n",
    "rf.fit(X_train, y_train)\n",
    "# モデルの書き出し\n",
    "joblib.dump(rf, \"data/boston_house_rf.pkl\")\n",
    "# 精度評価\n",
    "regression_metrics(rf, X_test, y_test)"
   ]
  },
  {
   "cell_type": "code",
   "execution_count": 79,
   "metadata": {},
   "outputs": [],
   "source": [
    "# 予測精度は高くなった\n",
    "\n",
    "# RMSE\tR2\n",
    "# 4.928602\t0.668759"
   ]
  },
  {
   "cell_type": "code",
   "execution_count": null,
   "metadata": {},
   "outputs": [],
   "source": []
  }
 ],
 "metadata": {
  "kernelspec": {
   "display_name": "Python 3",
   "language": "python",
   "name": "python3"
  },
  "language_info": {
   "codemirror_mode": {
    "name": "ipython",
    "version": 3
   },
   "file_extension": ".py",
   "mimetype": "text/x-python",
   "name": "python",
   "nbconvert_exporter": "python",
   "pygments_lexer": "ipython3",
   "version": "3.8.10"
  }
 },
 "nbformat": 4,
 "nbformat_minor": 4
}
